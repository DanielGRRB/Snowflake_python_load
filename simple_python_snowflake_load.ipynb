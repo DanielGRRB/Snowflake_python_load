{
 "cells": [
  {
   "cell_type": "code",
   "execution_count": 7,
   "metadata": {},
   "outputs": [],
   "source": [
    "import pandas as pd\n",
    "import snowflake.connector\n",
    "from snowflake.sqlalchemy import URL\n",
    "from sqlalchemy import create_engine\n",
    "\n",
    "\n",
    "df = pd.read_csv(\"<sample_data>.csv\")\n",
    "\n",
    "engine = create_engine(\n",
    "    URL(\n",
    "        account=\"<Hidden>\",\n",
    "        user=\"<Hidden>\",\n",
    "        password=\"<Hidden>\",\n",
    "        database=\"delivery\",\n",
    "        schema=\"data\",\n",
    "        warehouse=\"compute_wh\",\n",
    "        role=\"sysadmin\",\n",
    "    )\n",
    ")\n",
    "\n",
    "connection = engine.connect()\n",
    "\n",
    "df.to_sql(\"raw_data\", con=engine, index=False, if_exists=\"replace\", chunksize=10000)\n",
    "\n",
    "connection.close()\n",
    "engine.dispose()"
   ]
  },
  {
   "cell_type": "code",
   "execution_count": null,
   "metadata": {},
   "outputs": [],
   "source": []
  }
 ],
 "metadata": {
  "kernelspec": {
   "display_name": "Python 3",
   "language": "python",
   "name": "python3"
  },
  "language_info": {
   "codemirror_mode": {
    "name": "ipython",
    "version": 3
   },
   "file_extension": ".py",
   "mimetype": "text/x-python",
   "name": "python",
   "nbconvert_exporter": "python",
   "pygments_lexer": "ipython3",
   "version": "3.7.1"
  }
 },
 "nbformat": 4,
 "nbformat_minor": 2
}
